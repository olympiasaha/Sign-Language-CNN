{
 "cells": [
  {
   "cell_type": "code",
   "execution_count": 14,
   "metadata": {},
   "outputs": [],
   "source": [
    "import numpy as np\n",
    "import pickle\n",
    "import cv2, os\n",
    "from glob import glob\n",
    "from keras import optimizers\n",
    "from keras.models import Sequential\n",
    "from keras.layers import Dense\n",
    "from keras.layers import Dropout\n",
    "from keras.layers import Flatten\n",
    "from keras.layers.convolutional import Conv2D\n",
    "from keras.layers.convolutional import MaxPooling2D\n",
    "from keras.utils import np_utils\n",
    "from keras.callbacks import ModelCheckpoint\n",
    "from keras import backend as K\n",
    "# K.backend.image_data_format('tf')"
   ]
  },
  {
   "cell_type": "code",
   "execution_count": 15,
   "metadata": {
    "lines_to_next_cell": 1
   },
   "outputs": [],
   "source": [
    "os.environ['TF_CPP_MIN_LOG_LEVEL'] = '3'"
   ]
  },
  {
   "cell_type": "code",
   "execution_count": 16,
   "metadata": {
    "lines_to_next_cell": 1
   },
   "outputs": [
    {
     "data": {
      "text/plain": [
       "(50, 50)"
      ]
     },
     "execution_count": 16,
     "metadata": {},
     "output_type": "execute_result"
    }
   ],
   "source": [
    "def get_image_size():\n",
    "    img = cv2.imread('gestures/1/100.jpg', 0)\n",
    "#     print(img.shape)\n",
    "    return img.shape\n",
    "get_image_size()"
   ]
  },
  {
   "cell_type": "code",
   "execution_count": 17,
   "metadata": {},
   "outputs": [
    {
     "data": {
      "text/plain": [
       "44"
      ]
     },
     "execution_count": 17,
     "metadata": {},
     "output_type": "execute_result"
    }
   ],
   "source": [
    "def get_num_of_classes():\n",
    "#     print(len(glob('gestures/*')))\n",
    "    return len(glob('gestures/*'))\n",
    "get_num_of_classes()"
   ]
  },
  {
   "cell_type": "code",
   "execution_count": 18,
   "metadata": {
    "lines_to_next_cell": 1
   },
   "outputs": [],
   "source": [
    "image_x, image_y = get_image_size()"
   ]
  },
  {
   "cell_type": "markdown",
   "metadata": {},
   "source": [
    "## Applying CNN on training data . "
   ]
  },
  {
   "cell_type": "code",
   "execution_count": 19,
   "metadata": {
    "lines_to_next_cell": 1
   },
   "outputs": [],
   "source": [
    "def cnn_model():\n",
    "    num_of_classes = get_num_of_classes()\n",
    "    model = Sequential()\n",
    "    model.add(Conv2D(16, (2,2), input_shape=(image_x, image_y, 1), activation='relu'))\n",
    "    model.add(MaxPooling2D(pool_size=(2, 2), strides=(2, 2), padding='same'))\n",
    "    model.add(Conv2D(32, (3,3), activation='relu'))\n",
    "    model.add(MaxPooling2D(pool_size=(3, 3), strides=(3, 3), padding='same'))\n",
    "    model.add(Conv2D(64, (5,5), activation='relu'))\n",
    "    model.add(MaxPooling2D(pool_size=(5, 5), strides=(5, 5), padding='same'))\n",
    "    model.add(Flatten())\n",
    "    model.add(Dense(128, activation='relu'))\n",
    "    model.add(Dropout(0.2))\n",
    "    model.add(Dense(256, activation='relu'))\n",
    "    model.add(Dropout(0.2))\n",
    "    model.add(Dense(num_of_classes, activation='softmax'))\n",
    "    sgd = optimizers.SGD(lr=1e-2)\n",
    "    model.compile(loss='categorical_crossentropy', optimizer=sgd, metrics=['accuracy'])\n",
    "    filepath=\"cnn_model_keras3.h5\"\n",
    "    checkpoint1 = ModelCheckpoint(filepath, monitor='val_acc', verbose=1, save_best_only=True, mode='max')\n",
    "    callbacks_list = [checkpoint1]\n",
    "    from keras.utils import plot_model\n",
    "    plot_model(model, to_file='model.png', show_shapes=True)\n",
    "    return model, callbacks_list"
   ]
  },
  {
   "cell_type": "code",
   "execution_count": 20,
   "metadata": {},
   "outputs": [],
   "source": [
    "def train():\n",
    "    with open(\"train_images\", \"rb\") as f:\n",
    "        train_images = np.array(pickle.load(f))\n",
    "    with open(\"train_labels\", \"rb\") as f:\n",
    "        train_labels = np.array(pickle.load(f), dtype=np.int32)\n",
    "\n",
    "    with open(\"val_images\", \"rb\") as f:\n",
    "        val_images = np.array(pickle.load(f))\n",
    "    with open(\"val_labels\", \"rb\") as f:\n",
    "        val_labels = np.array(pickle.load(f), dtype=np.int32)\n",
    "\n",
    "    train_images = np.reshape(train_images, (train_images.shape[0], image_x, image_y, 1))\n",
    "    val_images = np.reshape(val_images, (val_images.shape[0], image_x, image_y, 1))\n",
    "    train_labels = np_utils.to_categorical(train_labels)\n",
    "    val_labels = np_utils.to_categorical(val_labels)\n",
    "\n",
    "    print(val_labels.shape)\n",
    "\n",
    "    model, callbacks_list = cnn_model()\n",
    "    model.summary()\n",
    "    model.fit(train_images, train_labels, validation_data=(val_images, val_labels), epochs=30, batch_size=500, callbacks=callbacks_list)\n",
    "    scores = model.evaluate(val_images, val_labels, verbose=0)\n",
    "    print(\"CNN Error: %.2f%%\" % (100-scores[1]*100))\n",
    "    model.save('cnn_model_keras3.h5')"
   ]
  },
  {
   "cell_type": "code",
   "execution_count": 21,
   "metadata": {},
   "outputs": [
    {
     "name": "stdout",
     "output_type": "stream",
     "text": [
      "(8800, 44)\n",
      "Model: \"sequential\"\n",
      "_________________________________________________________________\n",
      " Layer (type)                Output Shape              Param #   \n",
      "=================================================================\n",
      " conv2d (Conv2D)             (None, 49, 49, 16)        80        \n",
      "                                                                 \n",
      " max_pooling2d (MaxPooling2D  (None, 25, 25, 16)       0         \n",
      " )                                                               \n",
      "                                                                 \n",
      " conv2d_1 (Conv2D)           (None, 23, 23, 32)        4640      \n",
      "                                                                 \n",
      " max_pooling2d_1 (MaxPooling  (None, 8, 8, 32)         0         \n",
      " 2D)                                                             \n",
      "                                                                 \n",
      " conv2d_2 (Conv2D)           (None, 4, 4, 64)          51264     \n",
      "                                                                 \n",
      " max_pooling2d_2 (MaxPooling  (None, 1, 1, 64)         0         \n",
      " 2D)                                                             \n",
      "                                                                 \n",
      " flatten (Flatten)           (None, 64)                0         \n",
      "                                                                 \n",
      " dense (Dense)               (None, 128)               8320      \n",
      "                                                                 \n",
      " dropout (Dropout)           (None, 128)               0         \n",
      "                                                                 \n",
      " dense_1 (Dense)             (None, 256)               33024     \n",
      "                                                                 \n",
      " dropout_1 (Dropout)         (None, 256)               0         \n",
      "                                                                 \n",
      " dense_2 (Dense)             (None, 44)                11308     \n",
      "                                                                 \n",
      "=================================================================\n",
      "Total params: 108,636\n",
      "Trainable params: 108,636\n",
      "Non-trainable params: 0\n",
      "_________________________________________________________________\n"
     ]
    },
    {
     "name": "stderr",
     "output_type": "stream",
     "text": [
      "/home/rupamay/anaconda3/lib/python3.8/site-packages/keras/optimizers/optimizer_v2/gradient_descent.py:114: UserWarning: The `lr` argument is deprecated, use `learning_rate` instead.\n",
      "  super().__init__(name, **kwargs)\n"
     ]
    },
    {
     "name": "stdout",
     "output_type": "stream",
     "text": [
      "Epoch 1/30\n",
      "176/176 [==============================] - ETA: 0s - loss: 3.1835 - accuracy: 0.2277WARNING:tensorflow:Can save best model only with val_acc available, skipping.\n",
      "176/176 [==============================] - 29s 161ms/step - loss: 3.1835 - accuracy: 0.2277 - val_loss: 0.8342 - val_accuracy: 0.8332\n",
      "Epoch 2/30\n",
      "176/176 [==============================] - ETA: 0s - loss: 0.5891 - accuracy: 0.8182WARNING:tensorflow:Can save best model only with val_acc available, skipping.\n",
      "176/176 [==============================] - 29s 163ms/step - loss: 0.5891 - accuracy: 0.8182 - val_loss: 0.0363 - val_accuracy: 0.9937\n",
      "Epoch 3/30\n",
      "176/176 [==============================] - ETA: 0s - loss: 0.1881 - accuracy: 0.9398WARNING:tensorflow:Can save best model only with val_acc available, skipping.\n",
      "176/176 [==============================] - 29s 163ms/step - loss: 0.1881 - accuracy: 0.9398 - val_loss: 0.0159 - val_accuracy: 0.9964\n",
      "Epoch 4/30\n",
      "176/176 [==============================] - ETA: 0s - loss: 0.1113 - accuracy: 0.9645WARNING:tensorflow:Can save best model only with val_acc available, skipping.\n",
      "176/176 [==============================] - 28s 159ms/step - loss: 0.1113 - accuracy: 0.9645 - val_loss: 0.0082 - val_accuracy: 0.9978\n",
      "Epoch 5/30\n",
      "176/176 [==============================] - ETA: 0s - loss: 0.0776 - accuracy: 0.9753WARNING:tensorflow:Can save best model only with val_acc available, skipping.\n",
      "176/176 [==============================] - 28s 160ms/step - loss: 0.0776 - accuracy: 0.9753 - val_loss: 0.0056 - val_accuracy: 0.9989\n",
      "Epoch 6/30\n",
      "176/176 [==============================] - ETA: 0s - loss: 0.0583 - accuracy: 0.9814WARNING:tensorflow:Can save best model only with val_acc available, skipping.\n",
      "176/176 [==============================] - 28s 159ms/step - loss: 0.0583 - accuracy: 0.9814 - val_loss: 0.0043 - val_accuracy: 0.9990\n",
      "Epoch 7/30\n",
      "176/176 [==============================] - ETA: 0s - loss: 0.0471 - accuracy: 0.9851WARNING:tensorflow:Can save best model only with val_acc available, skipping.\n",
      "176/176 [==============================] - 28s 162ms/step - loss: 0.0471 - accuracy: 0.9851 - val_loss: 0.0028 - val_accuracy: 0.9990\n",
      "Epoch 8/30\n",
      "176/176 [==============================] - ETA: 0s - loss: 0.0378 - accuracy: 0.9882WARNING:tensorflow:Can save best model only with val_acc available, skipping.\n",
      "176/176 [==============================] - 28s 161ms/step - loss: 0.0378 - accuracy: 0.9882 - val_loss: 0.0026 - val_accuracy: 0.9992\n",
      "Epoch 9/30\n",
      "176/176 [==============================] - ETA: 0s - loss: 0.0331 - accuracy: 0.9894WARNING:tensorflow:Can save best model only with val_acc available, skipping.\n",
      "176/176 [==============================] - 29s 163ms/step - loss: 0.0331 - accuracy: 0.9894 - val_loss: 0.0023 - val_accuracy: 0.9994\n",
      "Epoch 10/30\n",
      "176/176 [==============================] - ETA: 0s - loss: 0.0285 - accuracy: 0.9910WARNING:tensorflow:Can save best model only with val_acc available, skipping.\n",
      "176/176 [==============================] - 29s 162ms/step - loss: 0.0285 - accuracy: 0.9910 - val_loss: 0.0016 - val_accuracy: 0.9995\n",
      "Epoch 11/30\n",
      "176/176 [==============================] - ETA: 0s - loss: 0.0271 - accuracy: 0.9914WARNING:tensorflow:Can save best model only with val_acc available, skipping.\n",
      "176/176 [==============================] - 32s 181ms/step - loss: 0.0271 - accuracy: 0.9914 - val_loss: 0.0013 - val_accuracy: 0.9997\n",
      "Epoch 12/30\n",
      "176/176 [==============================] - ETA: 0s - loss: 0.0256 - accuracy: 0.9919WARNING:tensorflow:Can save best model only with val_acc available, skipping.\n",
      "176/176 [==============================] - 33s 188ms/step - loss: 0.0256 - accuracy: 0.9919 - val_loss: 0.0010 - val_accuracy: 0.9998\n",
      "Epoch 13/30\n",
      "176/176 [==============================] - ETA: 0s - loss: 0.0211 - accuracy: 0.9932WARNING:tensorflow:Can save best model only with val_acc available, skipping.\n",
      "176/176 [==============================] - 29s 165ms/step - loss: 0.0211 - accuracy: 0.9932 - val_loss: 8.2995e-04 - val_accuracy: 0.9998\n",
      "Epoch 14/30\n",
      "176/176 [==============================] - ETA: 0s - loss: 0.0211 - accuracy: 0.9934WARNING:tensorflow:Can save best model only with val_acc available, skipping.\n",
      "176/176 [==============================] - 30s 170ms/step - loss: 0.0211 - accuracy: 0.9934 - val_loss: 7.1749e-04 - val_accuracy: 0.9998\n",
      "Epoch 15/30\n",
      "176/176 [==============================] - ETA: 0s - loss: 0.0186 - accuracy: 0.9939WARNING:tensorflow:Can save best model only with val_acc available, skipping.\n",
      "176/176 [==============================] - 30s 170ms/step - loss: 0.0186 - accuracy: 0.9939 - val_loss: 7.6408e-04 - val_accuracy: 0.9998\n",
      "Epoch 16/30\n",
      "176/176 [==============================] - ETA: 0s - loss: 0.0177 - accuracy: 0.9940WARNING:tensorflow:Can save best model only with val_acc available, skipping.\n",
      "176/176 [==============================] - 31s 177ms/step - loss: 0.0177 - accuracy: 0.9940 - val_loss: 5.2108e-04 - val_accuracy: 0.9999\n",
      "Epoch 17/30\n",
      "176/176 [==============================] - ETA: 0s - loss: 0.0151 - accuracy: 0.9954WARNING:tensorflow:Can save best model only with val_acc available, skipping.\n",
      "176/176 [==============================] - 31s 174ms/step - loss: 0.0151 - accuracy: 0.9954 - val_loss: 5.9688e-04 - val_accuracy: 0.9998\n",
      "Epoch 18/30\n",
      "176/176 [==============================] - ETA: 0s - loss: 0.0149 - accuracy: 0.9951WARNING:tensorflow:Can save best model only with val_acc available, skipping.\n",
      "176/176 [==============================] - 31s 173ms/step - loss: 0.0149 - accuracy: 0.9951 - val_loss: 6.1632e-04 - val_accuracy: 0.9998\n",
      "Epoch 19/30\n",
      "176/176 [==============================] - ETA: 0s - loss: 0.0139 - accuracy: 0.9956WARNING:tensorflow:Can save best model only with val_acc available, skipping.\n",
      "176/176 [==============================] - 31s 175ms/step - loss: 0.0139 - accuracy: 0.9956 - val_loss: 6.4843e-04 - val_accuracy: 0.9997\n",
      "Epoch 20/30\n",
      "176/176 [==============================] - ETA: 0s - loss: 0.0138 - accuracy: 0.9956WARNING:tensorflow:Can save best model only with val_acc available, skipping.\n",
      "176/176 [==============================] - 31s 175ms/step - loss: 0.0138 - accuracy: 0.9956 - val_loss: 4.5114e-04 - val_accuracy: 0.9999\n",
      "Epoch 21/30\n",
      "176/176 [==============================] - ETA: 0s - loss: 0.0123 - accuracy: 0.9962WARNING:tensorflow:Can save best model only with val_acc available, skipping.\n",
      "176/176 [==============================] - 30s 173ms/step - loss: 0.0123 - accuracy: 0.9962 - val_loss: 2.3782e-04 - val_accuracy: 1.0000\n",
      "Epoch 22/30\n",
      "176/176 [==============================] - ETA: 0s - loss: 0.0124 - accuracy: 0.9961WARNING:tensorflow:Can save best model only with val_acc available, skipping.\n",
      "176/176 [==============================] - 30s 173ms/step - loss: 0.0124 - accuracy: 0.9961 - val_loss: 2.7121e-04 - val_accuracy: 0.9999\n",
      "Epoch 23/30\n",
      "176/176 [==============================] - ETA: 0s - loss: 0.0121 - accuracy: 0.9960WARNING:tensorflow:Can save best model only with val_acc available, skipping.\n",
      "176/176 [==============================] - 30s 173ms/step - loss: 0.0121 - accuracy: 0.9960 - val_loss: 3.2514e-04 - val_accuracy: 0.9998\n",
      "Epoch 24/30\n",
      "176/176 [==============================] - ETA: 0s - loss: 0.0108 - accuracy: 0.9966WARNING:tensorflow:Can save best model only with val_acc available, skipping.\n",
      "176/176 [==============================] - 31s 177ms/step - loss: 0.0108 - accuracy: 0.9966 - val_loss: 2.2491e-04 - val_accuracy: 1.0000\n",
      "Epoch 25/30\n",
      "176/176 [==============================] - ETA: 0s - loss: 0.0099 - accuracy: 0.9968WARNING:tensorflow:Can save best model only with val_acc available, skipping.\n",
      "176/176 [==============================] - 31s 177ms/step - loss: 0.0099 - accuracy: 0.9968 - val_loss: 1.2544e-04 - val_accuracy: 1.0000\n",
      "Epoch 26/30\n",
      "176/176 [==============================] - ETA: 0s - loss: 0.0100 - accuracy: 0.9969WARNING:tensorflow:Can save best model only with val_acc available, skipping.\n",
      "176/176 [==============================] - 31s 177ms/step - loss: 0.0100 - accuracy: 0.9969 - val_loss: 1.0137e-04 - val_accuracy: 1.0000\n",
      "Epoch 27/30\n",
      "176/176 [==============================] - ETA: 0s - loss: 0.0100 - accuracy: 0.9967WARNING:tensorflow:Can save best model only with val_acc available, skipping.\n"
     ]
    },
    {
     "name": "stdout",
     "output_type": "stream",
     "text": [
      "176/176 [==============================] - 31s 174ms/step - loss: 0.0100 - accuracy: 0.9967 - val_loss: 2.3406e-04 - val_accuracy: 0.9999\n",
      "Epoch 28/30\n",
      "176/176 [==============================] - ETA: 0s - loss: 0.0089 - accuracy: 0.9973WARNING:tensorflow:Can save best model only with val_acc available, skipping.\n",
      "176/176 [==============================] - 30s 173ms/step - loss: 0.0089 - accuracy: 0.9973 - val_loss: 6.2968e-05 - val_accuracy: 1.0000\n",
      "Epoch 29/30\n",
      "176/176 [==============================] - ETA: 0s - loss: 0.0079 - accuracy: 0.9973WARNING:tensorflow:Can save best model only with val_acc available, skipping.\n",
      "176/176 [==============================] - 30s 173ms/step - loss: 0.0079 - accuracy: 0.9973 - val_loss: 1.4161e-04 - val_accuracy: 1.0000\n",
      "Epoch 30/30\n",
      "176/176 [==============================] - ETA: 0s - loss: 0.0080 - accuracy: 0.9973WARNING:tensorflow:Can save best model only with val_acc available, skipping.\n",
      "176/176 [==============================] - 31s 177ms/step - loss: 0.0080 - accuracy: 0.9973 - val_loss: 7.2962e-05 - val_accuracy: 1.0000\n",
      "CNN Error: 0.00%\n"
     ]
    }
   ],
   "source": [
    "train()\n",
    "K.clear_session();"
   ]
  },
  {
   "cell_type": "markdown",
   "metadata": {},
   "source": [
    "## Applying SVC Machine Learning Algorithm on training data . "
   ]
  },
  {
   "cell_type": "code",
   "execution_count": 9,
   "metadata": {},
   "outputs": [
    {
     "name": "stdout",
     "output_type": "stream",
     "text": [
      "(88000, 50, 50)\n",
      "(88000,)\n"
     ]
    }
   ],
   "source": [
    "from sklearn.svm import LinearSVC\n",
    "import numpy as np\n",
    "import pickle\n",
    "import cv2\n",
    "\n",
    "svc=LinearSVC(max_iter=1200000)\n",
    "\n",
    "\n",
    "\n",
    "with open(\"train_images\", \"rb\") as f:\n",
    "    train_images = np.array(pickle.load(f))\n",
    "with open(\"train_labels\", \"rb\") as f:\n",
    "    train_labels = np.array(pickle.load(f), dtype=np.int32)\n",
    "\n",
    "with open(\"val_images\", \"rb\") as f:\n",
    "    val_images = np.array(pickle.load(f))\n",
    "with open(\"val_labels\", \"rb\") as f:\n",
    "    val_labels = np.array(pickle.load(f), dtype=np.int32)\n",
    "print(train_images.shape)\n",
    "train_images = np.reshape(train_images, (88000,2500))\n",
    "val_images = np.reshape(val_images, (8800,2500))\n",
    "# train_labels = np_utils.to_categorical(train_labels)\n",
    "# train_labels=train_labels.flatten()\n",
    "# val_labels = np_utils.to_categorical(val_labels)\n",
    "\n",
    "print(train_labels.shape)\n",
    "\n",
    "model_SVC=svc.fit(train_images,train_labels)\n"
   ]
  },
  {
   "cell_type": "code",
   "execution_count": null,
   "metadata": {},
   "outputs": [],
   "source": [
    "from sklearn.metrics import accuracy_score\n",
    "\n",
    "# print(accuracy_score(pred,train_labels)*100)"
   ]
  },
  {
   "cell_type": "code",
   "execution_count": 11,
   "metadata": {},
   "outputs": [
    {
     "name": "stdout",
     "output_type": "stream",
     "text": [
      "99.98863636363636\n"
     ]
    }
   ],
   "source": [
    "\n",
    "with open(\"val_images\", \"rb\") as f:\n",
    "    val_images = np.array(pickle.load(f))\n",
    "val_images = np.reshape(val_images, (8800,2500))\n",
    "pred1=model_SVC.predict(val_images)\n",
    "print(accuracy_score(pred1,val_labels)*100)"
   ]
  },
  {
   "cell_type": "code",
   "execution_count": 12,
   "metadata": {},
   "outputs": [],
   "source": [
    "with open(\"svc\", \"wb\") as f:\n",
    "        pickle.dump(model_SVC, f)"
   ]
  },
  {
   "cell_type": "code",
   "execution_count": 13,
   "metadata": {},
   "outputs": [],
   "source": [
    "with open(\"svc\", \"rb\") as g:\n",
    "        hist = pickle.load(g)"
   ]
  },
  {
   "cell_type": "code",
   "execution_count": null,
   "metadata": {},
   "outputs": [],
   "source": []
  },
  {
   "cell_type": "code",
   "execution_count": null,
   "metadata": {},
   "outputs": [],
   "source": []
  }
 ],
 "metadata": {
  "jupytext": {
   "cell_metadata_filter": "-all",
   "main_language": "python",
   "notebook_metadata_filter": "-all"
  },
  "kernelspec": {
   "display_name": "Python 3",
   "language": "python",
   "name": "python3"
  },
  "language_info": {
   "codemirror_mode": {
    "name": "ipython",
    "version": 3
   },
   "file_extension": ".py",
   "mimetype": "text/x-python",
   "name": "python",
   "nbconvert_exporter": "python",
   "pygments_lexer": "ipython3",
   "version": "3.8.3"
  }
 },
 "nbformat": 4,
 "nbformat_minor": 4
}
