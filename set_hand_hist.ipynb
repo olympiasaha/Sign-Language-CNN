{
 "cells": [
  {
   "cell_type": "code",
   "execution_count": 1,
   "metadata": {
    "lines_to_next_cell": 1
   },
   "outputs": [],
   "source": [
    "import cv2\n",
    "import numpy as np\n",
    "import pickle\n",
    "import os"
   ]
  },
  {
   "cell_type": "code",
   "execution_count": 2,
   "metadata": {
    "lines_to_next_cell": 1
   },
   "outputs": [],
   "source": [
    "def build_squares(img):\n",
    "    x, y, w, h = 420, 140, 10, 10\n",
    "    d = 10\n",
    "    imgCrop = None\n",
    "    crop = None\n",
    "    for i in range(10):\n",
    "        for j in range(5):\n",
    "            if np.any(imgCrop == None):\n",
    "                imgCrop = img[y:y+h, x:x+w]\n",
    "            else:\n",
    "                imgCrop = np.hstack((imgCrop, img[y:y+h, x:x+w]))\n",
    "            #print(imgCrop.shape)\n",
    "            cv2.rectangle(img, (x,y), (x+w, y+h), (0,255,0), 1)\n",
    "            x+=w+d\n",
    "        if np.any(crop == None):\n",
    "            crop = imgCrop\n",
    "        else:\n",
    "            crop = np.vstack((crop, imgCrop)) \n",
    "        imgCrop = None\n",
    "        x = 420\n",
    "        y+=h+d\n",
    "    return crop"
   ]
  },
  {
   "cell_type": "code",
   "execution_count": 6,
   "metadata": {
    "lines_to_next_cell": 2
   },
   "outputs": [],
   "source": [
    "def get_hand_hist():\n",
    "    cam = cv2.VideoCapture(1) #VideoCapture.isOpened needs to be implemented to stop getting errors\n",
    "\n",
    "    x, y, w, h = 300, 100, 300, 300\n",
    "    flagPressedC, flagPressedS = False, False\n",
    "    imgCrop = None\n",
    "    while True:\n",
    "        img = cam.read()[1]\n",
    "        img = cv2.flip(img, 1)\n",
    "        img = cv2.resize(img, (640, 480))\n",
    "        hsv = cv2.cvtColor(img, cv2.COLOR_BGR2HSV)\n",
    "    \n",
    "        keypress = cv2.waitKey(1)\n",
    "        if keypress == ord('c'):\n",
    "            hsvCrop = cv2.cvtColor(imgCrop, cv2.COLOR_BGR2HSV)\n",
    "            flagPressedC = True\n",
    "            #Calculate the Histogram and normalize it to the range [0,255]\n",
    "            hist = cv2.calcHist([hsvCrop], [0, 1], None, [180, 256], [0, 180, 0, 256])\n",
    "            cv2.normalize(hist, hist, 0, 255, cv2.NORM_MINMAX)\n",
    "        elif keypress == ord('s'):\n",
    "            flagPressedS = True\n",
    "            break\n",
    "        if flagPressedC:\n",
    "            #Get the Backprojection of the same image by calling the function\n",
    "            dst = cv2.calcBackProject([hsv], [0, 1], hist, [0, 180, 0, 256], 1)\n",
    "            dst1 = dst.copy()\n",
    "            disc = cv2.getStructuringElement(cv2.MORPH_ELLIPSE,(14,14))\n",
    "            cv2.filter2D(dst,-1,disc,dst)\n",
    "            blur = cv2.bilateralFilter(dst, 9,100,75)\n",
    "            blur = cv2.GaussianBlur(dst, (11,11), 0)\n",
    "            blur = cv2.medianBlur(blur, 15)\n",
    "            ret,thresh = cv2.threshold(blur,0,255,cv2.THRESH_BINARY+cv2.THRESH_OTSU)\n",
    "            thresh = cv2.merge((thresh,thresh,thresh))\n",
    "            #cv2.imshow(\"res\", res)\n",
    "            cv2.imshow(\"Thresh\", thresh)\n",
    "        if not flagPressedS:\n",
    "            imgCrop = build_squares(img)\n",
    "        #cv2.rectangle(img, (x,y), (x+w, y+h), (0,255,0), 2)\n",
    "        cv2.imshow(\"Set hand histogram\", img)\n",
    "    cam.release()\n",
    "    cv2.waitKey(0)\n",
    "    cv2.destroyAllWindows()\n",
    "    with open(\"hist3\", \"wb\") as f:\n",
    "        pickle.dump(hist, f)"
   ]
  },
  {
   "cell_type": "code",
   "execution_count": 7,
   "metadata": {},
   "outputs": [],
   "source": [
    "get_hand_hist()\n",
    "# get_hand_hist1()"
   ]
  },
  {
   "cell_type": "code",
   "execution_count": null,
   "metadata": {},
   "outputs": [],
   "source": []
  }
 ],
 "metadata": {
  "jupytext": {
   "cell_metadata_filter": "-all",
   "main_language": "python",
   "notebook_metadata_filter": "-all"
  },
  "kernelspec": {
   "display_name": "Python 3",
   "language": "python",
   "name": "python3"
  },
  "language_info": {
   "codemirror_mode": {
    "name": "ipython",
    "version": 3
   },
   "file_extension": ".py",
   "mimetype": "text/x-python",
   "name": "python",
   "nbconvert_exporter": "python",
   "pygments_lexer": "ipython3",
   "version": "3.8.3"
  }
 },
 "nbformat": 4,
 "nbformat_minor": 4
}
