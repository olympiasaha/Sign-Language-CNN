{
 "cells": [
  {
   "cell_type": "code",
   "execution_count": null,
   "metadata": {
    "lines_to_next_cell": 1
   },
   "outputs": [],
   "source": [
    "import cv2, os"
   ]
  },
  {
   "cell_type": "code",
   "execution_count": null,
   "metadata": {},
   "outputs": [],
   "source": [
    "def flip_images():\n",
    "    gest_folder = \"gestures\"\n",
    "    images_labels = []\n",
    "    images = []\n",
    "    labels = []\n",
    "    for g_id in os.listdir(gest_folder):\n",
    "        for i in range(1200):\n",
    "            path = gest_folder+\"/\"+g_id+\"/\"+str(i+1)+\".jpg\"\n",
    "            new_path = gest_folder+\"/\"+g_id+\"/\"+str(i+1+1200)+\".jpg\"\n",
    "            print(path)\n",
    "            img = cv2.imread(path, 0)\n",
    "            img = cv2.flip(img, 1)\n",
    "            cv2.imwrite(new_path, img)"
   ]
  },
  {
   "cell_type": "code",
   "execution_count": null,
   "metadata": {},
   "outputs": [],
   "source": [
    "flip_images()"
   ]
  }
 ],
 "metadata": {
  "jupytext": {
   "cell_metadata_filter": "-all",
   "main_language": "python",
   "notebook_metadata_filter": "-all"
  },
  "kernelspec": {
   "display_name": "Python 3",
   "language": "python",
   "name": "python3"
  },
  "language_info": {
   "codemirror_mode": {
    "name": "ipython",
    "version": 3
   },
   "file_extension": ".py",
   "mimetype": "text/x-python",
   "name": "python",
   "nbconvert_exporter": "python",
   "pygments_lexer": "ipython3",
   "version": "3.8.3"
  }
 },
 "nbformat": 4,
 "nbformat_minor": 4
}
